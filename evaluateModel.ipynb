{
 "cells": [
  {
   "cell_type": "code",
   "execution_count": 21,
   "metadata": {},
   "outputs": [
    {
     "name": "stderr",
     "output_type": "stream",
     "text": [
      "[nltk_data] Downloading package wordnet to\n",
      "[nltk_data]     C:\\Users\\Matt\\AppData\\Roaming\\nltk_data...\n",
      "[nltk_data]   Package wordnet is already up-to-date!\n",
      "c:\\Users\\Matt\\anaconda3\\envs\\cuda\\Lib\\site-packages\\transformers\\models\\marian\\tokenization_marian.py:175: UserWarning: Recommended: pip install sacremoses.\n",
      "  warnings.warn(\"Recommended: pip install sacremoses.\")\n"
     ]
    }
   ],
   "source": [
    "from transformers import AutoTokenizer,AutoModelForSeq2SeqLM, Seq2SeqTrainer, Seq2SeqTrainingArguments\n",
    "from datasets import load_dataset\n",
    "import torch\n",
    "from transformers import Seq2SeqTrainer, Seq2SeqTrainingArguments\n",
    "import nltk\n",
    "from sacrebleu import corpus_bleu\n",
    "from nltk.translate.meteor_score import meteor_score\n",
    "nltk.download('wordnet')  # Required for METEOR score\n",
    "import random\n",
    "import os\n",
    "\n",
    "# Load the pre-trained model and tokenizer\n",
    "model_name = \"Helsinki-NLP/opus-mt-mul-en\"\n",
    "original_model = AutoModelForSeq2SeqLM.from_pretrained(model_name)\n",
    "tokenizer = AutoTokenizer.from_pretrained(model_name, device_map=\"auto\")\n",
    "device = torch.device(\"cuda\" if torch.cuda.is_available() else \"cpu\")\n",
    "original_model.to(device)\n",
    "\n",
    "\n",
    "# Function to preprocess test data\n",
    "def preprocess_data(test_data, tokenizer):\n",
    "    sources = []\n",
    "    references = []\n",
    "    for example in test_data:\n",
    "        sources.append(\">>jpn<< \" + example['src'])\n",
    "        references.append([example['trg']])  # Wrap in a list for sacrebleu compatibility\n",
    "    \n",
    "    return sources, references\n",
    "\n",
    "# Function to generate translations using the model\n",
    "def generate_translations(model, tokenizer, sources):\n",
    "    translations = []\n",
    "    for source in sources:\n",
    "        inputs = tokenizer(source, return_tensors=\"pt\", truncation=True, padding=True).to(device)\n",
    "\n",
    "        torch.cuda.empty_cache()\n",
    "        torch.cuda.synchronize()\n",
    "\n",
    "        # outputs = model.generate(\n",
    "        #     **inputs,\n",
    "        #     max_length=512,\n",
    "        #     no_repeat_ngram_size=3,\n",
    "        #     repetition_penalty=0.6,\n",
    "        #     num_beams=4,\n",
    "        #     early_stopping=True,\n",
    "        #     temperature=0    \n",
    "        # )\n",
    "\n",
    "        outputs = model.generate(\n",
    "            **inputs,\n",
    "            max_new_tokens=512,\n",
    "            repetition_penalty=1.2,\n",
    "            no_repeat_ngram_size=3,\n",
    "            num_beams=4,\n",
    "            early_stopping=True,\n",
    "            temperature=0\n",
    "        )\n",
    "        \n",
    "        translation = tokenizer.decode(outputs[0], skip_special_tokens=True)\n",
    "        translations.append(translation)\n",
    "    return translations\n",
    "\n",
    "def evaluate_model(model, tokenizer, test_data):\n",
    "    # Preprocess data\n",
    "    sources, references = preprocess_data(test_data, tokenizer)\n",
    "    translations = generate_translations(model, tokenizer, sources)\n",
    "\n",
    "    # BLEU score (using raw text)\n",
    "    bleu_score = corpus_bleu(translations, references).score\n",
    "\n",
    "    # Tokenize translations and references for METEOR\n",
    "    tokenized_translations = [trans.split() for trans in translations]\n",
    "    tokenized_references = [[ref.split() for ref in ref_list] for ref_list in references]\n",
    "\n",
    "    # METEOR score\n",
    "    meteor_scores = [\n",
    "        max(meteor_score([ref], trans) for ref in ref_list)\n",
    "        for ref_list, trans in zip(tokenized_references, tokenized_translations)\n",
    "    ]\n",
    "    avg_meteor_score = sum(meteor_scores) / len(meteor_scores)\n",
    "\n",
    "    return bleu_score, avg_meteor_score\n",
    "\n"
   ]
  },
  {
   "cell_type": "code",
   "execution_count": 22,
   "metadata": {},
   "outputs": [],
   "source": [
    "data = load_dataset(\"NilanE/ParallelFiction-Ja_En-100k\", split=\"train\")\n",
    "\n",
    "dataset = data.train_test_split(test_size=0.1, seed=42)\n",
    "train_data = dataset['train']\n",
    "test_data = dataset['test']"
   ]
  },
  {
   "cell_type": "code",
   "execution_count": 23,
   "metadata": {},
   "outputs": [
    {
     "name": "stderr",
     "output_type": "stream",
     "text": [
      "c:\\Users\\Matt\\anaconda3\\envs\\cuda\\Lib\\site-packages\\transformers\\generation\\configuration_utils.py:629: UserWarning: `do_sample` is set to `False`. However, `temperature` is set to `0` -- this flag is only used in sample-based generation modes. You should set `do_sample=True` or unset `temperature`.\n",
      "  warnings.warn(\n"
     ]
    },
    {
     "name": "stdout",
     "output_type": "stream",
     "text": [
      "Original Model\n",
      "BLEU Score: 0.00\n",
      "METEOR Score: 0.01\n",
      "Fine-tuned Model\n",
      "BLEU Score: 52.82\n",
      "METEOR Score: 0.13\n"
     ]
    }
   ],
   "source": [
    "test_data = test_data.shuffle(seed=42).select(range(100))\n",
    "\n",
    "original_model = original_model\n",
    "bleu, meteor = evaluate_model(original_model, tokenizer, test_data)\n",
    "\n",
    "print(\"Original Model\")\n",
    "print(f\"BLEU Score: {bleu:.2f}\")\n",
    "print(f\"METEOR Score: {meteor:.2f}\")\n",
    "\n",
    "finetuned_model = AutoModelForSeq2SeqLM.from_pretrained(\"fine_tuned_model\").to(device)\n",
    "bleu, meteor = evaluate_model(finetuned_model, tokenizer, test_data)\n",
    "print(\"Fine-tuned Model\")\n",
    "print(f\"BLEU Score: {bleu:.2f}\")\n",
    "print(f\"METEOR Score: {meteor:.2f}\")\n"
   ]
  }
 ],
 "metadata": {
  "kernelspec": {
   "display_name": "cuda",
   "language": "python",
   "name": "python3"
  },
  "language_info": {
   "codemirror_mode": {
    "name": "ipython",
    "version": 3
   },
   "file_extension": ".py",
   "mimetype": "text/x-python",
   "name": "python",
   "nbconvert_exporter": "python",
   "pygments_lexer": "ipython3",
   "version": "3.12.9"
  }
 },
 "nbformat": 4,
 "nbformat_minor": 2
}
