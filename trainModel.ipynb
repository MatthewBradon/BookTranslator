{
 "cells": [
  {
   "cell_type": "code",
   "execution_count": 1,
   "metadata": {},
   "outputs": [
    {
     "name": "stderr",
     "output_type": "stream",
     "text": [
      "c:\\Users\\matth\\anaconda3\\envs\\EpubTranslatorEnv\\Lib\\site-packages\\tqdm\\auto.py:21: TqdmWarning: IProgress not found. Please update jupyter and ipywidgets. See https://ipywidgets.readthedocs.io/en/stable/user_install.html\n",
      "  from .autonotebook import tqdm as notebook_tqdm\n"
     ]
    },
    {
     "name": "stdout",
     "output_type": "stream",
     "text": [
      "Device:  cuda\n"
     ]
    }
   ],
   "source": [
    "import torch\n",
    "import torch.nn as nn\n",
    "import torch.optim as optim\n",
    "from torch.utils.data import Dataset, DataLoader\n",
    "from transformers import AutoTokenizer\n",
    "import os\n",
    "from nltk.translate.bleu_score import sentence_bleu\n",
    "from torchmetrics.text import BLEUScore\n",
    "from lion_pytorch import Lion\n",
    "from torch.cuda.amp import autocast, GradScaler\n",
    "\n",
    "# Define device\n",
    "device = torch.device(\"cuda\" if torch.cuda.is_available() else \"cpu\")\n",
    "\n",
    "print(\"Device: \", device)\n",
    "torch.cuda.empty_cache()\n",
    "# Paths to data files\n",
    "EN_FILE = \"D:/JapaneseToEnglishDataset/CCMatrix/CCMatrix.en-ja.en\"\n",
    "JA_FILE = \"D:/JapaneseToEnglishDataset/CCMatrix/CCMatrix.en-ja.ja\""
   ]
  },
  {
   "cell_type": "code",
   "execution_count": 2,
   "metadata": {},
   "outputs": [
    {
     "name": "stderr",
     "output_type": "stream",
     "text": [
      "C:\\Users\\matth\\AppData\\Local\\Temp\\ipykernel_19372\\1543724815.py:3: FutureWarning: `torch.cuda.amp.GradScaler(args...)` is deprecated. Please use `torch.amp.GradScaler('cuda', args...)` instead.\n",
      "  scaler = GradScaler()\n"
     ]
    }
   ],
   "source": [
    "# Define gradient accumulation steps\n",
    "GRADIENT_ACCUMULATION_STEPS = 4\n",
    "scaler = GradScaler()\n",
    "\n",
    "\n",
    "# Step 1: Tokenization and Vocabulary\n",
    "# Use Hugging Face tokenizer\n",
    "tokenizer_src = AutoTokenizer.from_pretrained(\"facebook/nllb-200-distilled-600M\")\n",
    "tokenizer_tgt = AutoTokenizer.from_pretrained(\"facebook/nllb-200-distilled-600M\")\n",
    "\n",
    "en_vocab_size = tokenizer_src.vocab_size\n",
    "ja_vocab_size = tokenizer_tgt.vocab_size\n",
    "\n",
    "# Special tokens\n",
    "PAD_IDX = tokenizer_src.pad_token_id\n",
    "BOS_IDX = tokenizer_src.bos_token_id or tokenizer_src.cls_token_id\n",
    "EOS_IDX = tokenizer_src.eos_token_id or tokenizer_src.sep_token_id\n",
    "\n",
    "# Step 2: Dataset Definition\n",
    "class TranslationDataset(Dataset):\n",
    "    def __init__(self, src_file, tgt_file, src_tokenizer, tgt_tokenizer):\n",
    "        with open(src_file, encoding=\"utf-8\") as f:\n",
    "            self.src_data = f.readlines()\n",
    "        with open(tgt_file, encoding=\"utf-8\") as f:\n",
    "            self.tgt_data = f.readlines()\n",
    "        self.src_tokenizer = src_tokenizer\n",
    "        self.tgt_tokenizer = tgt_tokenizer\n",
    "\n",
    "    def __len__(self):\n",
    "        return len(self.src_data)\n",
    "\n",
    "    def __getitem__(self, idx):\n",
    "        src = self.src_tokenizer(self.src_data[idx].strip(), return_tensors='pt', padding=True, truncation=True).input_ids[0]\n",
    "        tgt = self.tgt_tokenizer(self.tgt_data[idx].strip(), return_tensors='pt', padding=True, truncation=True).input_ids[0]\n",
    "        return torch.tensor([BOS_IDX] + src.tolist() + [EOS_IDX]), torch.tensor([BOS_IDX] + tgt.tolist() + [EOS_IDX])\n",
    "\n",
    "# Create dataset and dataloader\n",
    "def collate_fn(batch):\n",
    "    src_batch, tgt_batch = [], []\n",
    "    for src, tgt in batch:\n",
    "        src_batch.append(src)\n",
    "        tgt_batch.append(tgt)\n",
    "    src_batch = nn.utils.rnn.pad_sequence(src_batch, batch_first=True, padding_value=PAD_IDX)\n",
    "    tgt_batch = nn.utils.rnn.pad_sequence(tgt_batch, batch_first=True, padding_value=PAD_IDX)\n",
    "    return src_batch, tgt_batch\n",
    "\n",
    "\n",
    "data = TranslationDataset(EN_FILE, JA_FILE, tokenizer_src, tokenizer_tgt)\n",
    "dataloader = DataLoader(data, batch_size=8, shuffle=True, collate_fn=collate_fn)\n",
    "\n",
    "# Step 3: Define Transformer Model\n",
    "class Transformer(nn.Module):\n",
    "    def __init__(self, src_vocab_size, tgt_vocab_size, embed_size=512, num_heads=8, num_layers=6, ffn_hidden=2048):\n",
    "        super().__init__()\n",
    "        self.src_embed = nn.Embedding(src_vocab_size, embed_size, padding_idx=PAD_IDX)\n",
    "        self.tgt_embed = nn.Embedding(tgt_vocab_size, embed_size, padding_idx=PAD_IDX)\n",
    "        self.pos_encoder = nn.Transformer(\n",
    "            d_model=embed_size, \n",
    "            nhead=num_heads, \n",
    "            num_encoder_layers=num_layers, \n",
    "            num_decoder_layers=num_layers, \n",
    "            dim_feedforward=ffn_hidden, \n",
    "            batch_first=True\n",
    "        )\n",
    "        self.fc_out = nn.Linear(embed_size, tgt_vocab_size)\n",
    "\n",
    "    def forward(self, src, tgt):\n",
    "        src = self.src_embed(src)  # [batch_size, src_len, embed_size]\n",
    "        tgt = self.tgt_embed(tgt)  # [batch_size, tgt_len, embed_size]\n",
    "        output = self.pos_encoder(src, tgt)\n",
    "        output = self.fc_out(output)\n",
    "        return output\n",
    "\n",
    "\n",
    "# Step 5: Training Loop\n",
    "def train_epoch(model, dataloader, optimizer, criterion, device):\n",
    "    model.train()\n",
    "    total_loss = 0\n",
    "    optimizer.zero_grad()\n",
    "\n",
    "    for batch_idx, (src, tgt) in enumerate(dataloader):\n",
    "        src, tgt = src.to(device), tgt.to(device)\n",
    "        tgt_input = tgt[:, :-1]  # Remove the last token for input\n",
    "        tgt_output = tgt[:, 1:]  # Shift the target to the right\n",
    "\n",
    "        # Mixed precision training\n",
    "        with autocast():\n",
    "            output = model(src, tgt_input)  # Forward pass\n",
    "            loss = criterion(output.view(-1, output.shape[-1]), tgt_output.contiguous().view(-1))\n",
    "            loss = loss / GRADIENT_ACCUMULATION_STEPS  # Normalize loss for accumulation\n",
    "\n",
    "        # Backward pass with scaling\n",
    "        scaler.scale(loss).backward()\n",
    "\n",
    "        # Gradient accumulation: Step optimizer every N steps\n",
    "        if (batch_idx + 1) % GRADIENT_ACCUMULATION_STEPS == 0 or (batch_idx + 1) == len(dataloader):\n",
    "            scaler.step(optimizer)  # Update weights\n",
    "            scaler.update()        # Adjust scaling factor\n",
    "            optimizer.zero_grad()  # Reset gradients\n",
    "\n",
    "        total_loss += loss.item() * GRADIENT_ACCUMULATION_STEPS  # Un-normalize loss for logging\n",
    "\n",
    "    return total_loss / len(dataloader)\n"
   ]
  },
  {
   "cell_type": "code",
   "execution_count": 3,
   "metadata": {},
   "outputs": [],
   "source": [
    "model = Transformer(en_vocab_size, ja_vocab_size).to(device)\n",
    "# Step 4: Training Setup\n",
    "optimizer = Lion(model.parameters(), lr=1e-4, weight_decay=1e-2)\n",
    "criterion = nn.CrossEntropyLoss(ignore_index=PAD_IDX)\n"
   ]
  },
  {
   "cell_type": "code",
   "execution_count": null,
   "metadata": {},
   "outputs": [
    {
     "name": "stderr",
     "output_type": "stream",
     "text": [
      "C:\\Users\\matth\\AppData\\Local\\Temp\\ipykernel_19372\\1543724815.py:87: FutureWarning: `torch.cuda.amp.autocast(args...)` is deprecated. Please use `torch.amp.autocast('cuda', args...)` instead.\n",
      "  with autocast():\n",
      "c:\\Users\\matth\\anaconda3\\envs\\EpubTranslatorEnv\\Lib\\site-packages\\torch\\nn\\functional.py:5560: UserWarning: 1Torch was not compiled with flash attention. (Triggered internally at C:\\actions-runner\\_work\\pytorch\\pytorch\\builder\\windows\\pytorch\\aten\\src\\ATen\\native\\transformers\\cuda\\sdp_utils.cpp:555.)\n",
      "  attn_output = scaled_dot_product_attention(q, k, v, attn_mask, dropout_p, is_causal)\n"
     ]
    }
   ],
   "source": [
    "EPOCHS = 10\n",
    "for epoch in range(1, EPOCHS + 1):\n",
    "    train_loss = train_epoch(model, dataloader, optimizer, criterion, device)\n",
    "    print(f\"Epoch {epoch}, Loss: {train_loss:.4f}\")\n",
    "\n",
    "# Save the model\n",
    "torch.save(model.state_dict(), \"transformer_translation.pt\")\n",
    "print(\"Model saved!\")\n"
   ]
  }
 ],
 "metadata": {
  "kernelspec": {
   "display_name": "EpubTranslatorEnv",
   "language": "python",
   "name": "python3"
  },
  "language_info": {
   "codemirror_mode": {
    "name": "ipython",
    "version": 3
   },
   "file_extension": ".py",
   "mimetype": "text/x-python",
   "name": "python",
   "nbconvert_exporter": "python",
   "pygments_lexer": "ipython3",
   "version": "3.12.4"
  }
 },
 "nbformat": 4,
 "nbformat_minor": 2
}
